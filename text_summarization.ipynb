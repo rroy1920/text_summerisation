{
 "cells": [
  {
   "cell_type": "code",
   "execution_count": 1,
   "id": "f3904abb",
   "metadata": {},
   "outputs": [],
   "source": [
    "import spacy\n",
    "from spacy.lang.en.stop_words import STOP_WORDS\n",
    "from string import punctuation\n",
    "\n"
   ]
  },
  {
   "cell_type": "code",
   "execution_count": 2,
   "id": "e959fa08",
   "metadata": {},
   "outputs": [
    {
     "data": {
      "text/plain": [
       "326"
      ]
     },
     "execution_count": 2,
     "metadata": {},
     "output_type": "execute_result"
    }
   ],
   "source": [
    "text=\"\"\"Virat Kohli ; born 5 November 1988) is an Indian international cricketer and the former captain of the Indian national cricket team. Widely regarded as one of the greatest batsmen in the history of the sport,[4] he plays for Royal\n",
    " Challengers Bangalore in the IPL and Delhi in domestic cricket. Kohli holds numerous records in his career which includes scoring most runs in T20 internationals and IPL, fastest to reach 10,000 ODI runs. In 2020, the International Cricket \n",
    " Council named him the male cricketer of the decade. Kohli has also contributed to India's successes, including winning the 2011 World Cup and the 2013 Champions trophy. He is among the only four Indian cricketers who has played 500 matches for India.\"\"\"\n",
    "\n",
    "len(STOP_WORDS)\n"
   ]
  },
  {
   "cell_type": "code",
   "execution_count": 3,
   "id": "891fa5d8",
   "metadata": {},
   "outputs": [
    {
     "name": "stdout",
     "output_type": "stream",
     "text": [
      "{'further', 'alone', 'part', 'also', 'a', 'forty', 'him', 'somewhere', 'noone', 'done', 'an', 'often', 'thus', 'whereas', 'beforehand', 'did', 'us', 'both', 'even', 'into', 'through', '‘m', 'off', 'am', 'keep', 'two', 'whatever', 'anyone', 'because', 'bottom', 'already', 'latter', 'at', 'name', 'thereafter', 'but', 'whereby', 'against', 'well', 'call', 'least', 'without', 'with', 'up', 'becoming', 'whither', 'wherever', 'n’t', 'no', 'all', 'front', 'or', 'four', 'wherein', 'out', 'as', 'and', 'what', 'still', 'mostly', 'throughout', 'across', 'never', 'does', 'ever', 'whenever', 'whether', 'more', 'within', 'another', 'whereupon', 'do', 'them', 'should', 'on', 'per', 'from', '’d', 'six', 'this', 'therein', 'hereupon', 'been', 'during', 'just', 'her', 'might', 'formerly', 'those', 'used', 'of', 'why', 're', 'myself', 'here', 'anyway', 'have', 'before', 'using', 'where', 'being', 'not', 'everywhere', 'among', 'sometimes', 'too', 'very', '‘d', 'twenty', 'sometime', 'enough', 'everything', 'fifteen', 'can', 'behind', 'there', 'towards', 'other', '’m', 'though', 'nor', 'please', 'together', 'doing', 'somehow', 'perhaps', 'their', 'some', 'side', 'amongst', 'due', 'toward', 'be', 'take', 'rather', 'seems', 'although', '’re', 'see', 'elsewhere', 'nine', 'various', 'whoever', 'until', 'must', 'the', 'seeming', 'himself', \"'ve\", 'less', 'first', 'either', 'neither', 'above', 'almost', 'go', 'down', 'if', 'every', 'everyone', 'put', 'around', 'became', 'ourselves', 'third', 'upon', 'meanwhile', 'beyond', 'was', 'hundred', '‘ll', 'yourself', 'much', 'one', 'sixty', 'serious', 'regarding', 'i', 'each', 'only', '’s', 'will', 'would', 'since', 'hers', '‘s', 'ca', 'however', 'once', 'he', 'say', 'along', 'empty', 'yours', 'nevertheless', 'becomes', 'besides', 'make', 'thereupon', 'so', 'eight', 'own', \"'ll\", 'afterwards', 'for', \"'s\", 'nowhere', 'same', 'his', 'otherwise', 'amount', 'give', 'your', 'whose', 'that', 'twelve', 'to', 'several', 'therefore', 'unless', 'seemed', 'five', 'n‘t', 'could', 'thru', 'whom', 'which', 'may', 'herself', 'fifty', 'namely', 'than', 'else', 'hence', 'between', 'had', 'none', 'by', 'back', 'move', 'except', 'next', 'my', 'thereby', 'via', 'in', 'thence', '’ve', 'yet', 'nothing', 'former', \"n't\", 'most', 'top', 'really', 'while', 'full', 'made', 'ours', 'something', 'whereafter', 'hereby', 'these', 'is', 'whole', 'indeed', 'show', 'its', 'now', 'anyhow', 'over', '’ll', 'hereafter', \"'re\", 'ten', 'about', \"'d\", 'any', 'moreover', 'were', 'has', 'onto', 'last', 'are', 'they', '‘ve', 'itself', \"'m\", 'when', 'anywhere', 'such', 'yourselves', 'someone', 'below', 'seem', 'mine', 'nobody', 'three', 'others', 'many', 'become', 'themselves', 'me', 'eleven', 'cannot', 'who', 'we', 'few', 'herein', '‘re', 'again', 'always', 'beside', 'quite', 'under', 'get', 'whence', 'it', 'then', 'our', 'anything', 'latterly', 'you', 'how', 'after', 'she'}\n"
     ]
    }
   ],
   "source": [
    "print(STOP_WORDS)"
   ]
  },
  {
   "cell_type": "code",
   "execution_count": 4,
   "id": "c2c7a136",
   "metadata": {},
   "outputs": [],
   "source": [
    "nlp=spacy.load('en_core_web_sm')"
   ]
  },
  {
   "cell_type": "code",
   "execution_count": 5,
   "id": "b8bbfd10",
   "metadata": {},
   "outputs": [
    {
     "name": "stdout",
     "output_type": "stream",
     "text": [
      "Virat Kohli ; born 5 November 1988) is an Indian international cricketer and the former captain of the Indian national cricket team. Widely regarded as one of the greatest batsmen in the history of the sport,[4] he plays for Royal\n",
      " Challengers Bangalore in the IPL and Delhi in domestic cricket. Kohli holds numerous records in his career which includes scoring most runs in T20 internationals and IPL, fastest to reach 10,000 ODI runs. In 2020, the International Cricket \n",
      " Council named him the male cricketer of the decade. Kohli has also contributed to India's successes, including winning the 2011 World Cup and the 2013 Champions trophy. He is among the only four Indian cricketers who has played 500 matches for India.\n"
     ]
    }
   ],
   "source": [
    "doc=nlp(text)\n",
    "print(doc)"
   ]
  },
  {
   "cell_type": "code",
   "execution_count": 6,
   "id": "0539c5d3",
   "metadata": {},
   "outputs": [
    {
     "name": "stdout",
     "output_type": "stream",
     "text": [
      "['Virat', 'Kohli', ';', 'born', '5', 'November', '1988', ')', 'is', 'an', 'Indian', 'international', 'cricketer', 'and', 'the', 'former', 'captain', 'of', 'the', 'Indian', 'national', 'cricket', 'team', '.', 'Widely', 'regarded', 'as', 'one', 'of', 'the', 'greatest', 'batsmen', 'in', 'the', 'history', 'of', 'the', 'sport,[4', ']', 'he', 'plays', 'for', 'Royal', '\\n ', 'Challengers', 'Bangalore', 'in', 'the', 'IPL', 'and', 'Delhi', 'in', 'domestic', 'cricket', '.', 'Kohli', 'holds', 'numerous', 'records', 'in', 'his', 'career', 'which', 'includes', 'scoring', 'most', 'runs', 'in', 'T20', 'internationals', 'and', 'IPL', ',', 'fastest', 'to', 'reach', '10,000', 'ODI', 'runs', '.', 'In', '2020', ',', 'the', 'International', 'Cricket', '\\n ', 'Council', 'named', 'him', 'the', 'male', 'cricketer', 'of', 'the', 'decade', '.', 'Kohli', 'has', 'also', 'contributed', 'to', 'India', \"'s\", 'successes', ',', 'including', 'winning', 'the', '2011', 'World', 'Cup', 'and', 'the', '2013', 'Champions', 'trophy', '.', 'He', 'is', 'among', 'the', 'only', 'four', 'Indian', 'cricketers', 'who', 'has', 'played', '500', 'matches', 'for', 'India', '.']\n"
     ]
    }
   ],
   "source": [
    "tokens=[token.text for token in doc ]\n",
    "print(tokens)"
   ]
  },
  {
   "cell_type": "code",
   "execution_count": 7,
   "id": "d2398afc",
   "metadata": {},
   "outputs": [
    {
     "name": "stdout",
     "output_type": "stream",
     "text": [
      "{'Virat': 1, 'Kohli': 3, 'born': 1, '5': 1, 'November': 1, '1988': 1, 'Indian': 3, 'international': 1, 'cricketer': 2, 'captain': 1, 'national': 1, 'cricket': 2, 'team': 1, 'Widely': 1, 'regarded': 1, 'greatest': 1, 'batsmen': 1, 'history': 1, 'sport,[4': 1, 'plays': 1, 'Royal': 1, '\\n ': 2, 'Challengers': 1, 'Bangalore': 1, 'IPL': 2, 'Delhi': 1, 'domestic': 1, 'holds': 1, 'numerous': 1, 'records': 1, 'career': 1, 'includes': 1, 'scoring': 1, 'runs': 2, 'T20': 1, 'internationals': 1, 'fastest': 1, 'reach': 1, '10,000': 1, 'ODI': 1, '2020': 1, 'International': 1, 'Cricket': 1, 'Council': 1, 'named': 1, 'male': 1, 'decade': 1, 'contributed': 1, 'India': 2, 'successes': 1, 'including': 1, 'winning': 1, '2011': 1, 'World': 1, 'Cup': 1, '2013': 1, 'Champions': 1, 'trophy': 1, 'cricketers': 1, 'played': 1, '500': 1, 'matches': 1}\n"
     ]
    }
   ],
   "source": [
    "word_freq={}\n",
    "for word in doc:\n",
    "    if word.text.lower() not in STOP_WORDS and word.text.lower() not in punctuation:\n",
    "        if word.text not in word_freq.keys():\n",
    "            word_freq[word.text]=1\n",
    "        else:\n",
    "            word_freq[word.text]+=1\n",
    "            \n",
    "print(word_freq)            "
   ]
  },
  {
   "cell_type": "code",
   "execution_count": 8,
   "id": "549d0cec",
   "metadata": {},
   "outputs": [
    {
     "name": "stdout",
     "output_type": "stream",
     "text": [
      "3\n"
     ]
    }
   ],
   "source": [
    "max_freq=max(word_freq.values())\n",
    "print(max_freq)"
   ]
  },
  {
   "cell_type": "code",
   "execution_count": 9,
   "id": "1119c387",
   "metadata": {},
   "outputs": [
    {
     "name": "stdout",
     "output_type": "stream",
     "text": [
      "{'Virat': 0.3333333333333333, 'Kohli': 1.0, 'born': 0.3333333333333333, '5': 0.3333333333333333, 'November': 0.3333333333333333, '1988': 0.3333333333333333, 'Indian': 1.0, 'international': 0.3333333333333333, 'cricketer': 0.6666666666666666, 'captain': 0.3333333333333333, 'national': 0.3333333333333333, 'cricket': 0.6666666666666666, 'team': 0.3333333333333333, 'Widely': 0.3333333333333333, 'regarded': 0.3333333333333333, 'greatest': 0.3333333333333333, 'batsmen': 0.3333333333333333, 'history': 0.3333333333333333, 'sport,[4': 0.3333333333333333, 'plays': 0.3333333333333333, 'Royal': 0.3333333333333333, '\\n ': 0.6666666666666666, 'Challengers': 0.3333333333333333, 'Bangalore': 0.3333333333333333, 'IPL': 0.6666666666666666, 'Delhi': 0.3333333333333333, 'domestic': 0.3333333333333333, 'holds': 0.3333333333333333, 'numerous': 0.3333333333333333, 'records': 0.3333333333333333, 'career': 0.3333333333333333, 'includes': 0.3333333333333333, 'scoring': 0.3333333333333333, 'runs': 0.6666666666666666, 'T20': 0.3333333333333333, 'internationals': 0.3333333333333333, 'fastest': 0.3333333333333333, 'reach': 0.3333333333333333, '10,000': 0.3333333333333333, 'ODI': 0.3333333333333333, '2020': 0.3333333333333333, 'International': 0.3333333333333333, 'Cricket': 0.3333333333333333, 'Council': 0.3333333333333333, 'named': 0.3333333333333333, 'male': 0.3333333333333333, 'decade': 0.3333333333333333, 'contributed': 0.3333333333333333, 'India': 0.6666666666666666, 'successes': 0.3333333333333333, 'including': 0.3333333333333333, 'winning': 0.3333333333333333, '2011': 0.3333333333333333, 'World': 0.3333333333333333, 'Cup': 0.3333333333333333, '2013': 0.3333333333333333, 'Champions': 0.3333333333333333, 'trophy': 0.3333333333333333, 'cricketers': 0.3333333333333333, 'played': 0.3333333333333333, '500': 0.3333333333333333, 'matches': 0.3333333333333333}\n"
     ]
    }
   ],
   "source": [
    "for word in word_freq.keys():\n",
    "    word_freq[word]=word_freq[word]/max_freq\n",
    "    \n",
    "print(word_freq)    "
   ]
  },
  {
   "cell_type": "code",
   "execution_count": 10,
   "id": "cc85c2e1",
   "metadata": {},
   "outputs": [
    {
     "name": "stdout",
     "output_type": "stream",
     "text": [
      "[Virat Kohli ; born 5 November 1988) is an Indian international cricketer and the former captain of the Indian national cricket team., Widely regarded as one of the greatest batsmen in the history of the sport,[4] he plays for Royal\n",
      " Challengers Bangalore in the IPL and Delhi in domestic cricket., Kohli holds numerous records in his career which includes scoring most runs in T20 internationals and IPL, fastest to reach 10,000 ODI runs., In 2020, the International Cricket \n",
      " Council named him the male cricketer of the decade., Kohli has also contributed to India's successes, including winning the 2011 World Cup and the 2013 Champions trophy., He is among the only four Indian cricketers who has played 500 matches for India.]\n"
     ]
    }
   ],
   "source": [
    " sent_token=[sent for sent in doc.sents]\n",
    " \n",
    "print(sent_token)"
   ]
  },
  {
   "cell_type": "code",
   "execution_count": 11,
   "id": "c901ca7c",
   "metadata": {},
   "outputs": [],
   "source": [
    "sent_scores={}\n",
    "for sent in sent_token:\n",
    "    for word in sent:\n",
    "        if word.text in word_freq.keys():\n",
    "            if sent not in sent_scores.keys():\n",
    "                sent_scores[sent] = word_freq[word.text]\n",
    "            else:\n",
    "                sent_scores[sent] += word_freq[word.text]\n",
    "            "
   ]
  },
  {
   "cell_type": "code",
   "execution_count": 12,
   "id": "08390ea9",
   "metadata": {
    "scrolled": true
   },
   "outputs": [
    {
     "name": "stdout",
     "output_type": "stream",
     "text": [
      "{Virat Kohli ; born 5 November 1988) is an Indian international cricketer and the former captain of the Indian national cricket team.: 7.333333333333333, Widely regarded as one of the greatest batsmen in the history of the sport,[4] he plays for Royal\n",
      " Challengers Bangalore in the IPL and Delhi in domestic cricket.: 6.0, Kohli holds numerous records in his career which includes scoring most runs in T20 internationals and IPL, fastest to reach 10,000 ODI runs.: 6.999999999999999, In 2020, the International Cricket \n",
      " Council named him the male cricketer of the decade.: 3.6666666666666665, Kohli has also contributed to India's successes, including winning the 2011 World Cup and the 2013 Champions trophy.: 5.0, He is among the only four Indian cricketers who has played 500 matches for India.: 2.9999999999999996}\n"
     ]
    }
   ],
   "source": [
    "print(sent_scores)"
   ]
  },
  {
   "cell_type": "code",
   "execution_count": 13,
   "id": "c1a62d1b",
   "metadata": {},
   "outputs": [],
   "source": [
    "from heapq import nlargest"
   ]
  },
  {
   "cell_type": "code",
   "execution_count": 17,
   "id": "1695df7d",
   "metadata": {},
   "outputs": [],
   "source": [
    "        select_len=int(len(sent_token)*0.4)\n",
    "        summary=nlargest(select_len,sent_scores,key = sent_scores.get)\n",
    "        final_summary=[word.text for word in summary]\n",
    "        summary=' '.join(final_summary)\n"
   ]
  },
  {
   "cell_type": "code",
   "execution_count": 18,
   "id": "b45dc37f",
   "metadata": {},
   "outputs": [
    {
     "name": "stdout",
     "output_type": "stream",
     "text": [
      "Virat Kohli ; born 5 November 1988) is an Indian international cricketer and the former captain of the Indian national cricket team. Kohli holds numerous records in his career which includes scoring most runs in T20 internationals and IPL, fastest to reach 10,000 ODI runs.\n"
     ]
    }
   ],
   "source": [
    "print(summary)"
   ]
  },
  {
   "cell_type": "code",
   "execution_count": null,
   "id": "9453b46f",
   "metadata": {},
   "outputs": [],
   "source": []
  },
  {
   "cell_type": "code",
   "execution_count": null,
   "id": "15cb7494",
   "metadata": {},
   "outputs": [],
   "source": []
  },
  {
   "cell_type": "code",
   "execution_count": null,
   "id": "0767a46b",
   "metadata": {},
   "outputs": [],
   "source": []
  },
  {
   "cell_type": "code",
   "execution_count": null,
   "id": "abd7eb57",
   "metadata": {},
   "outputs": [],
   "source": []
  },
  {
   "cell_type": "code",
   "execution_count": null,
   "id": "6b74c79c",
   "metadata": {},
   "outputs": [],
   "source": []
  },
  {
   "cell_type": "code",
   "execution_count": null,
   "id": "5751c9bd",
   "metadata": {},
   "outputs": [],
   "source": []
  },
  {
   "cell_type": "code",
   "execution_count": null,
   "id": "aa4c6280",
   "metadata": {},
   "outputs": [],
   "source": []
  },
  {
   "cell_type": "code",
   "execution_count": null,
   "id": "7959bf17",
   "metadata": {},
   "outputs": [],
   "source": []
  },
  {
   "cell_type": "code",
   "execution_count": null,
   "id": "899e9045",
   "metadata": {},
   "outputs": [],
   "source": []
  },
  {
   "cell_type": "code",
   "execution_count": null,
   "id": "35f213a9",
   "metadata": {},
   "outputs": [],
   "source": []
  },
  {
   "cell_type": "code",
   "execution_count": null,
   "id": "de2863e7",
   "metadata": {},
   "outputs": [],
   "source": []
  },
  {
   "cell_type": "code",
   "execution_count": null,
   "id": "bb98a37d",
   "metadata": {},
   "outputs": [],
   "source": []
  },
  {
   "cell_type": "code",
   "execution_count": null,
   "id": "c24d2dea",
   "metadata": {},
   "outputs": [],
   "source": []
  },
  {
   "cell_type": "code",
   "execution_count": null,
   "id": "29ce3fc2",
   "metadata": {},
   "outputs": [],
   "source": []
  },
  {
   "cell_type": "code",
   "execution_count": null,
   "id": "e5b71231",
   "metadata": {},
   "outputs": [],
   "source": []
  },
  {
   "cell_type": "code",
   "execution_count": null,
   "id": "3a19e67e",
   "metadata": {},
   "outputs": [],
   "source": []
  },
  {
   "cell_type": "code",
   "execution_count": null,
   "id": "680e8ccf",
   "metadata": {},
   "outputs": [],
   "source": []
  },
  {
   "cell_type": "code",
   "execution_count": null,
   "id": "0a305b34",
   "metadata": {},
   "outputs": [],
   "source": []
  }
 ],
 "metadata": {
  "kernelspec": {
   "display_name": "Python 3 (ipykernel)",
   "language": "python",
   "name": "python3"
  },
  "language_info": {
   "codemirror_mode": {
    "name": "ipython",
    "version": 3
   },
   "file_extension": ".py",
   "mimetype": "text/x-python",
   "name": "python",
   "nbconvert_exporter": "python",
   "pygments_lexer": "ipython3",
   "version": "3.10.8"
  }
 },
 "nbformat": 4,
 "nbformat_minor": 5
}
